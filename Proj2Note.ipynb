{
 "cells": [
  {
   "cell_type": "markdown",
   "metadata": {},
   "source": [
    "## Infomation Visualization Project 2 Data\n",
    "\n",
    "### This page is for the convenience of code reuse and for saving useful information. You might find it helpful for understanding provided data files by refering to cells below."
   ]
  },
  {
   "cell_type": "code",
   "execution_count": 17,
   "metadata": {},
   "outputs": [
    {
     "name": "stdout",
     "output_type": "stream",
     "text": [
      "Extension Services:  1173\n",
      "Academic Alliance:  2905\n"
     ]
    }
   ],
   "source": [
    "import csv\n",
    "filename = \"./NCWIT_DataV2_RawData.csv\"\n",
    "with open(filename) as f:\n",
    "    reader = csv.reader(f)\n",
    "    data_list = list(reader)\n",
    "    cnt1 = 0\n",
    "    cnt2 = 0\n",
    "    for row in data_list[1:2908]: \n",
    "        # 2907 valid records in total\n",
    "        # line 2907 only has a record on a single column\n",
    "        # extension service\n",
    "        if \"Ex\" in row[4]: cnt1 += 1\n",
    "        if \"All\" not in row[4]: cnt2 += 1\n",
    "    # All institutions with extension services from NCWIT are academic alliance\n",
    "    print(\"Extension Services: \", cnt1)\n",
    "    print(\"Academic Alliance: \", 2907-cnt2)\n",
    "        "
   ]
  },
  {
   "cell_type": "markdown",
   "metadata": {},
   "source": [
    "## 1. Retention and NCWIT services"
   ]
  },
  {
   "cell_type": "code",
   "execution_count": 31,
   "metadata": {},
   "outputs": [
    {
     "name": "stdout",
     "output_type": "stream",
     "text": [
      "Sophomores, Female: Enrolled in DIFFERENT MAJOR (Sph. F)\n",
      "Sophomores, Female: Enrolled in SAME MAJOR (Sph. F)\n"
     ]
    }
   ],
   "source": [
    "# sophomores females enrolled in different(68) and same(69) major\n",
    "print(data_list[0][68])\n",
    "print(data_list[0][69])"
   ]
  },
  {
   "cell_type": "code",
   "execution_count": 60,
   "metadata": {},
   "outputs": [
    {
     "name": "stdout",
     "output_type": "stream",
     "text": [
      "557\n"
     ]
    }
   ],
   "source": [
    "cnt_3 = 0\n",
    "for row in data_list[1:2908]:\n",
    "    # number of valid records for Sophomores, Female: Enrolled in DIFFERENT/SAME Major \n",
    "    if row[68] != '' and row[69] != '': cnt_3 += 1\n",
    "print(cnt_3)"
   ]
  },
  {
   "cell_type": "code",
   "execution_count": 55,
   "metadata": {},
   "outputs": [],
   "source": [
    "csvFile2 = open('Sophmore_major_changed.csv','w', newline='')\n",
    "writer = csv.writer(csvFile2)\n",
    "writer.writerow([\"NCWIT Participant\",\"Institution\",\"Different\", \"Same\"])\n",
    "for row in data_list[1:2907]:\n",
    "    # number of valid records for Sophomores, Female: Enrolled in DIFFERENT/SAME Major \n",
    "    if row[68] != '' and row[69] != '': \n",
    "        writer.writerow([row[4],row[5],row[68],row[69]])\n",
    "csvFile2.close()"
   ]
  },
  {
   "cell_type": "code",
   "execution_count": 44,
   "metadata": {},
   "outputs": [
    {
     "name": "stdout",
     "output_type": "stream",
     "text": [
      "Freshmen, Female: Enrolled in DIFFERENT MAJOR (Fshm F)\n",
      "Freshmen, Female: Enrolled in SAME MAJOR (Fshm F)\n"
     ]
    }
   ],
   "source": [
    "# Freshmen females enrolled in different(68) and same(69) major\n",
    "print(data_list[0][40])\n",
    "print(data_list[0][41])"
   ]
  },
  {
   "cell_type": "code",
   "execution_count": 61,
   "metadata": {},
   "outputs": [
    {
     "name": "stdout",
     "output_type": "stream",
     "text": [
      "510\n"
     ]
    }
   ],
   "source": [
    "cnt_4 = 0\n",
    "for row in data_list[1:2908]:\n",
    "    # number of valid records for Freshman, Female: Enrolled in DIFFERENT/SAME Major \n",
    "    if row[40] != '' and row[41] != '': cnt_4 += 1\n",
    "print(cnt_4)"
   ]
  },
  {
   "cell_type": "code",
   "execution_count": 56,
   "metadata": {},
   "outputs": [],
   "source": [
    "csvFile3 = open('Freshman_major_changed.csv','w', newline='')\n",
    "writer = csv.writer(csvFile3)\n",
    "writer.writerow([\"NCWIT Participant\",\"Institution\",\"Different\", \"Same\"])\n",
    "for row in data_list[1:2907]:\n",
    "    # number of valid records for Sophomores, Female: Enrolled in DIFFERENT/SAME Major \n",
    "    if row[40] != '' and row[41] != '': \n",
    "        writer.writerow([row[4],row[5],row[40],row[41]])\n",
    "csvFile3.close()"
   ]
  },
  {
   "cell_type": "markdown",
   "metadata": {},
   "source": [
    "The **different majors** might be related to Information Technology as well, instead of Art, Law, Economics or something else. In this case we will get less benefits from these two columns. "
   ]
  },
  {
   "cell_type": "code",
   "execution_count": 51,
   "metadata": {},
   "outputs": [
    {
     "name": "stdout",
     "output_type": "stream",
     "text": [
      "Freshmen, Female: Total Declared Majors (Fshm F)\n",
      "Sophomores, Female: Total Declared Majors (Sph. F)\n"
     ]
    }
   ],
   "source": [
    "# Freshmen females VS sophomores females total declared majors\n",
    "print(data_list[0][48])\n",
    "print(data_list[0][76])"
   ]
  },
  {
   "cell_type": "code",
   "execution_count": 62,
   "metadata": {},
   "outputs": [
    {
     "name": "stdout",
     "output_type": "stream",
     "text": [
      "721\n"
     ]
    }
   ],
   "source": [
    "cnt_5 = 0\n",
    "for row in data_list[1:2908]:\n",
    "    # number of valid records for Freshman, Female: Enrolled in DIFFERENT/SAME Major \n",
    "    if row[48] != '' and row[76] != '': cnt_5 += 1\n",
    "print(cnt_5)"
   ]
  },
  {
   "cell_type": "code",
   "execution_count": 81,
   "metadata": {},
   "outputs": [],
   "source": [
    "csvFile4 = open('Freshman_Sophomore_total.csv','w', newline='')\n",
    "writer = csv.writer(csvFile4)\n",
    "writer.writerow([\"NCWIT Participant\",\"Institution\",\"School Year\",\"Freshman\", \"Sophomore\"])\n",
    "for row in data_list[1:2907]:\n",
    "    # number of valid records for Sophomores, Female: Enrolled in DIFFERENT/SAME Major \n",
    "    if row[48] != '' and row[76] != '': \n",
    "        writer.writerow([row[4],row[5],row[7],row[48],row[76]])\n",
    "csvFile4.close()"
   ]
  },
  {
   "cell_type": "markdown",
   "metadata": {},
   "source": [
    "For calculating retention rate."
   ]
  },
  {
   "cell_type": "markdown",
   "metadata": {},
   "source": [
    "## 2. Male/Female GPA with / without Extension Services"
   ]
  },
  {
   "cell_type": "code",
   "execution_count": 79,
   "metadata": {},
   "outputs": [
    {
     "name": "stdout",
     "output_type": "stream",
     "text": [
      "Enroll, Female: Average HS GPA (Enrl F)\n",
      "Enroll, Male: Average HS GPA (Enrl M)\n",
      "Freshmen, Female: Cumulative GPA (Fshm F)\n",
      "Freshmen, Male: Cumulative GPA (Fshm M)\n",
      "Sophomores, Female: Cumulative GPA (Sph. F)\n",
      "Sophomores, Male: Cumulative GPA (Sph. M)\n",
      "Juniors, Female: Cumulative GPA (Jun. F)\n",
      "Juniors, Male: Cumulative GPA (Jun. M)\n",
      "Seniors, Female: Cumulative GPA (Sen. F)\n",
      "Seniors, Male: Cumulative GPA (Sen. M)\n",
      "Totals, Female: Cumulative GPA (Tot. F)\n",
      "Totals, Male: Cumulative GPA (Tot. M)\n"
     ]
    }
   ],
   "source": [
    "# females VS males GPA\n",
    "print(data_list[0][12])\n",
    "print(data_list[0][26])\n",
    "print(data_list[0][39])\n",
    "print(data_list[0][53])\n",
    "print(data_list[0][67])\n",
    "print(data_list[0][81])\n",
    "print(data_list[0][95])\n",
    "print(data_list[0][109])\n",
    "print(data_list[0][123])\n",
    "print(data_list[0][137])\n",
    "print(data_list[0][179])\n",
    "print(data_list[0][193])"
   ]
  },
  {
   "cell_type": "code",
   "execution_count": 83,
   "metadata": {},
   "outputs": [],
   "source": [
    "csvFile5 = open('Male_Female_GPA_raw.csv','w', newline='')\n",
    "writer = csv.writer(csvFile5)\n",
    "writer.writerow([data_list[0][4], data_list[0][5],data_list[0][7], data_list[0][12],data_list[0][26],data_list[0][39], data_list[0][53],data_list[0][67], data_list[0][81],data_list[0][95], data_list[0][109],data_list[0][123], data_list[0][137], data_list[0][179], data_list[0][193]])\n",
    "for row in data_list[1:2907]:\n",
    "    # number of valid records for Sophomores, Female: Enrolled in DIFFERENT/SAME Major \n",
    "    writer.writerow([row[4],row[5],row[7],row[12],row[26],row[39],row[53],row[67],row[81],row[95],row[109],row[123],row[137],row[179],row[193]])\n",
    "csvFile5.close()"
   ]
  },
  {
   "cell_type": "markdown",
   "metadata": {},
   "source": [
    "This file includes data about GPA (high school, grade 1, 2, 3, 4, total) with **missing fileds**."
   ]
  },
  {
   "cell_type": "code",
   "execution_count": 85,
   "metadata": {},
   "outputs": [
    {
     "name": "stdout",
     "output_type": "stream",
     "text": [
      "812\n"
     ]
    }
   ],
   "source": [
    "csvFile6 = open('Male_Female_GPA_total.csv','w', newline='')\n",
    "writer = csv.writer(csvFile6)\n",
    "writer.writerow([data_list[0][4], data_list[0][5],data_list[0][7], data_list[0][179], data_list[0][193]])\n",
    "cnt6 = 0\n",
    "for row in data_list[1:2907]:\n",
    "    # number of valid records for Sophomores, Female: Enrolled in DIFFERENT/SAME Major \n",
    "    if row[179] != '' and row[193] != '':\n",
    "        writer.writerow([row[4],row[5],row[7],row[179],row[193]])\n",
    "        cnt6 += 1\n",
    "csvFile6.close()\n",
    "print(cnt6)"
   ]
  },
  {
   "cell_type": "markdown",
   "metadata": {},
   "source": [
    "## 3. Relationship between SAT/ACT/HSGPA and GPA"
   ]
  },
  {
   "cell_type": "markdown",
   "metadata": {},
   "source": [
    "Maybe we only need to compare the SAT/ACT/HSGPA with Freshmen Cumulative GPA since there will be a lot of work do calculation on the data over time."
   ]
  },
  {
   "cell_type": "code",
   "execution_count": 89,
   "metadata": {},
   "outputs": [
    {
     "name": "stdout",
     "output_type": "stream",
     "text": [
      "Enroll, Female: Avg. ACT Math Score (Enrl F)\n",
      "Enroll, Male: Avg. ACT Math Score (Enrl M)\n",
      "Enroll, Female: Avg. SAT Math Score (Enrl F)\n",
      "Enroll, Male: Avg. SAT Math Score (Enrl M)\n",
      "Enroll, Female: Average HS GPA (Enrl F)\n",
      "Enroll, Male: Average HS GPA (Enrl M)\n",
      "Freshmen, Female: Cumulative GPA (Fshm F)\n",
      "Freshmen, Male: Cumulative GPA (Fshm M)\n"
     ]
    }
   ],
   "source": [
    "print(data_list[0][9])\n",
    "print(data_list[0][23])\n",
    "print(data_list[0][13])\n",
    "print(data_list[0][27])\n",
    "print(data_list[0][12])\n",
    "print(data_list[0][26])\n",
    "print(data_list[0][39])\n",
    "print(data_list[0][53])"
   ]
  },
  {
   "cell_type": "code",
   "execution_count": 96,
   "metadata": {},
   "outputs": [
    {
     "name": "stdout",
     "output_type": "stream",
     "text": [
      "815\n"
     ]
    }
   ],
   "source": [
    "csvFile7 = open('ACT_SAT_HS_FreshmenGPA_raw.csv','w', newline='')\n",
    "writer = csv.writer(csvFile7)\n",
    "writer.writerow([data_list[0][9], data_list[0][23],data_list[0][13], data_list[0][27], data_list[0][12], data_list[0][26], data_list[0][39], data_list[0][53]])\n",
    "cnt7 = 0\n",
    "for row in data_list[1:2907]:\n",
    "    # number of valid records for Sophomores, Female: Enrolled in DIFFERENT/SAME Major\n",
    "    if not (row[23] == '' and row[9] == '' and row[13] == '' and row[27] == '' and row[12] == '' and row[26] == '' and row[39] == '' and row[53] == ''):\n",
    "        writer.writerow([row[9],row[23],row[13],row[27],row[12],row[26],row[39],row[53]])\n",
    "        cnt7 += 1\n",
    "csvFile7.close()\n",
    "print(cnt7)"
   ]
  },
  {
   "cell_type": "code",
   "execution_count": 98,
   "metadata": {},
   "outputs": [
    {
     "name": "stdout",
     "output_type": "stream",
     "text": [
      "154\n"
     ]
    }
   ],
   "source": [
    "csvFile8 = open('ACT_SAT_HS_FreshmenGPA.csv','w', newline='')\n",
    "writer = csv.writer(csvFile8)\n",
    "writer.writerow([data_list[0][9], data_list[0][23],data_list[0][13], data_list[0][27], data_list[0][12], data_list[0][26], data_list[0][39], data_list[0][53]])\n",
    "cnt8 = 0\n",
    "for row in data_list[1:2907]:\n",
    "    # number of valid records for Sophomores, Female: Enrolled in DIFFERENT/SAME Major\n",
    "    if (row[23] != '' and row[9] != '' and row[13] != '' and row[27] != '' and row[12] != '' and row[26] != '' and row[39] != '' and row[53] != ''):\n",
    "        writer.writerow([row[9],row[23],row[13],row[27],row[12],row[26],row[39],row[53]])\n",
    "        cnt8 += 1\n",
    "csvFile8.close()\n",
    "print(cnt8)"
   ]
  },
  {
   "cell_type": "markdown",
   "metadata": {},
   "source": [
    "If we discard all rows with missing fields, we only get 154 valid records, which sounds enough for visualization...Maybe not..."
   ]
  },
  {
   "cell_type": "markdown",
   "metadata": {},
   "source": [
    "## 4. Number of Enrollments Changed Over Years"
   ]
  },
  {
   "cell_type": "code",
   "execution_count": 100,
   "metadata": {},
   "outputs": [
    {
     "name": "stdout",
     "output_type": "stream",
     "text": [
      "School Year\n",
      "Enroll, Female: New Enrollments (Enrl F)\n",
      "Enroll, Female: Transfer Students (Enrl F)\n",
      "Enroll, Male: New Enrollments (Enrl M)\n",
      "Enroll, Male: Transfer Students (Enrl M)\n"
     ]
    }
   ],
   "source": [
    "print(data_list[0][7])\n",
    "print(data_list[0][19])\n",
    "print(data_list[0][20])\n",
    "print(data_list[0][33])\n",
    "print(data_list[0][34])\n"
   ]
  },
  {
   "cell_type": "code",
   "execution_count": 102,
   "metadata": {},
   "outputs": [
    {
     "name": "stdout",
     "output_type": "stream",
     "text": [
      "887\n"
     ]
    }
   ],
   "source": [
    "csvFile9 = open('Enrollment_Number_years.csv','w', newline='')\n",
    "writer = csv.writer(csvFile9)\n",
    "writer.writerow([data_list[0][7], data_list[0][19],data_list[0][20], data_list[0][33], data_list[0][34]])\n",
    "cnt9 = 0\n",
    "for row in data_list[1:2907]:\n",
    "    # number of valid records for Sophomores, Female: Enrolled in DIFFERENT/SAME Major\n",
    "    if row[19] != '' and row[33] != '':\n",
    "        writer.writerow([row[7],row[19],row[20],row[33],row[34]])\n",
    "        cnt9 += 1\n",
    "csvFile9.close()\n",
    "print(cnt9)"
   ]
  },
  {
   "cell_type": "markdown",
   "metadata": {},
   "source": [
    "The Numbers of transfer students might be helpful. But it could be missing in this files."
   ]
  }
 ],
 "metadata": {
  "kernelspec": {
   "display_name": "Python 3",
   "language": "python",
   "name": "python3"
  },
  "language_info": {
   "codemirror_mode": {
    "name": "ipython",
    "version": 3
   },
   "file_extension": ".py",
   "mimetype": "text/x-python",
   "name": "python",
   "nbconvert_exporter": "python",
   "pygments_lexer": "ipython3",
   "version": "3.6.0"
  }
 },
 "nbformat": 4,
 "nbformat_minor": 2
}
